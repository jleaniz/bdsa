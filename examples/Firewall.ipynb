{
 "cells": [
  {
   "cell_type": "markdown",
   "metadata": {},
   "source": [
    "# Blue Coat log analysis notebook\n",
    "================================================="
   ]
  },
  {
   "cell_type": "markdown",
   "metadata": {},
   "source": [
    "## Loading the logs from parquet files in HDFS\n",
    "\n",
    "The following code loads the access logs from the BlueCoat/accesslog directory in the user's HDFS directory and makes them available as a table.\n",
    "\n",
    "'data' is a dataframe that contains rows selected by the SQL query."
   ]
  },
  {
   "cell_type": "code",
   "execution_count": null,
   "metadata": {},
   "outputs": [],
   "source": [
    "from pyspark import SparkContext\n",
    "from pyspark.sql import SQLContext\n",
    "from pyspark.sql.types import *\n",
    "\n",
    "if __name__ == '__main__':\n",
    "    sqlContext = SQLContext(sc)\n",
    "\n",
    "    df = sqlContext.load('fw/log')\n",
    "    sqlContext.registerDataFrameAsTable(df, \"fwlog\")\n",
    "    data = sqlContext.sql(\"SELECT * FROM fwlog WHERE proto = 'TCP'\")\n",
    "    data.show()"
   ]
  },
  {
   "cell_type": "markdown",
   "metadata": {},
   "source": [
    "## Plotting a pie chart from the data\n",
    "The following code uses the 'matplotlib' to draw a pie chart from 'data'"
   ]
  },
  {
   "cell_type": "code",
   "execution_count": null,
   "metadata": {},
   "outputs": [],
   "source": [
    "%matplotlib inline\n",
    "\n",
    "hosts = []\n",
    "hits = []\n",
    "for i in data.take(5):\n",
    "    totals.append(i.hits)\n",
    "    hosts.append(i.host)\n",
    "\n",
    "plt.pie(hits, labels=hosts)"
   ]
  },
  {
   "cell_type": "markdown",
   "metadata": {},
   "source": [
    "## Plotting a bar graph from the data\n",
    "The following code uses the 'matplotlib' to draw a pie chart from 'data'"
   ]
  },
  {
   "cell_type": "code",
   "execution_count": null,
   "metadata": {},
   "outputs": [],
   "source": [
    "%matplotlib inline\n",
    "\n",
    "hosts = []\n",
    "hits = []\n",
    "for i in data.take(4):\n",
    "    hits.append(i.hits)\n",
    "    hosts.append(i.host)\n",
    "    \n",
    "N = 4\n",
    "ind = np.arange(N)  # the x locations for the groups\n",
    "width = 0.35       # the width of the bars\n",
    "fig = plt.figure()\n",
    "ax = fig.add_subplot(111)\n",
    "rects1 = ax.bar(ind, hits, width, color='r')\n",
    "\n",
    "# add some\n",
    "ax.set_ylabel('hits')\n",
    "ax.set_title('Top 4 denied destinations')\n",
    "ax.set_xticks(ind+width)\n",
    "ax.set_xticklabels(hosts)"
   ]
  },
  {
   "cell_type": "code",
   "execution_count": null,
   "metadata": {},
   "outputs": [],
   "source": [
    "!ls"
   ]
  },
  {
   "cell_type": "code",
   "execution_count": null,
   "metadata": {},
   "outputs": [],
   "source": [
    ""
   ]
  }
 ],
 "metadata": {
  "kernelspec": {
   "display_name": "Python 2",
   "language": "python",
   "name": "python2"
  },
  "language_info": {
   "codemirror_mode": {
    "name": "ipython",
    "version": 2.0
   },
   "file_extension": ".py",
   "mimetype": "text/x-python",
   "name": "python",
   "nbconvert_exporter": "python",
   "pygments_lexer": "ipython2",
   "version": "2.7.6"
  }
 },
 "nbformat": 4,
 "nbformat_minor": 0
}