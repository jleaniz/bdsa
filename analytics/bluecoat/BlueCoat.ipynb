{
 "cells": [
  {
   "cell_type": "markdown",
   "metadata": {
    "slideshow": {
     "slide_type": "notes"
    }
   },
   "source": [
    "# Blue Coat log analysis notebook\n",
    "================================================="
   ]
  },
  {
   "cell_type": "markdown",
   "metadata": {},
   "source": [
    "## Loading the logs as tables from parquet files in HDFS\n",
    "\n",
    "The following code loads the access logs from the BlueCoat/accesslog directory in the user's HDFS directory and makes them available as a table.\n",
    "\n",
    "'data' is a dataframe that contains rows selected by the SQL query."
   ]
  },
  {
   "cell_type": "code",
   "execution_count": 44,
   "metadata": {
    "collapsed": false,
    "scrolled": true,
    "slideshow": {
     "slide_type": "slide"
    }
   },
   "outputs": [
    {
     "name": "stdout",
     "output_type": "stream",
     "text": [
      "clientip       username           host            categories           hits\n",
      "10.31.5.110    -                  178.162.214.36  TV/Video\\ Streams    10  \n",
      "10.22.4.199    sbedouet           141.105.71.93   none                 10  \n",
      "10.39.20.21    -                  198.204.248.250 none                 9   \n",
      "10.18.6.210    DVIonescu          141.105.71.93   none                 9   \n",
      "10.39.20.21    EMEACRC            198.204.248.250 none                 9   \n",
      "10.18.6.210    -                  141.105.71.93   none                 9   \n",
      "10.192.89.177  yin.li             115.238.166.150 Audio/Video\\ Clips   8   \n",
      "10.192.89.177  yin.li             115.238.166.151 Audio/Video\\ Clips   8   \n",
      "10.128.26.129  ngodin             192.64.174.163  none                 5   \n",
      "10.44.4.44     -                  195.154.162.187 none                 5   \n",
      "10.2.5.180     amametz            5.79.73.209     Audio/Video\\ Clips   2   \n",
      "10.35.3.123    -                  195.154.162.197 none                 2   \n",
      "10.5.40.15     afarmer            188.138.9.229   none                 2   \n",
      "10.35.3.123    Andrei-Mihai.Avasi 195.154.162.197 none                 2   \n",
      "10.35.3.123    -                  198.204.248.250 none                 2   \n",
      "10.35.3.123    Andrei-Mihai.Avasi 198.204.248.250 none                 2   \n",
      "10.128.160.204 cernestoabrego     192.64.174.163  pending              2   \n",
      "10.2.5.180     amametz            5.79.73.209     Mixed\\ Content/Po... 2   \n",
      "10.1.4.55      axdesoutter        91.205.172.101  none                 2   \n",
      "10.35.2.168    -                  24.200.168.97   none                 2   \n"
     ]
    }
   ],
   "source": [
    "from pyspark import SparkContext\n",
    "from pyspark.sql import SQLContext\n",
    "from pyspark.sql.types import *\n",
    "\n",
    "if __name__ == '__main__':\n",
    "    sqlContext = SQLContext(sc)\n",
    "\n",
    "    df = sqlContext.load('BlueCoat/accessLog')\n",
    "    sqlContext.registerDataFrameAsTable(df, \"accesslog\")\n",
    "    df2 = sqlContext.load('reputation/alienvault')\n",
    "    sqlContext.registerDataFrameAsTable(df2, 'av')\n",
    "    data = sqlContext.sql(\"SELECT clientip, username, host, categories, count(*) as hits FROM accesslog JOIN av WHERE host=ip GROUP BY clientip, username, host, categories ORDER BY hits DESC\") \n",
    "    data.cache()\n",
    "    data.show()"
   ]
  },
  {
   "cell_type": "markdown",
   "metadata": {},
   "source": [
    "## Plotting a pie chart from the data\n",
    "The following code uses the 'matplotlib' to draw a pie chart from 'data'"
   ]
  },
  {
   "cell_type": "code",
   "execution_count": 42,
   "metadata": {
    "collapsed": false,
    "scrolled": true
   },
   "outputs": [
    {
     "data": {
      "text/plain": [
       "([<matplotlib.patches.Wedge at 0x5276690>,\n",
       "  <matplotlib.patches.Wedge at 0x525e0d0>,\n",
       "  <matplotlib.patches.Wedge at 0x525ea50>,\n",
       "  <matplotlib.patches.Wedge at 0x526b410>,\n",
       "  <matplotlib.patches.Wedge at 0x526bd90>],\n",
       " [<matplotlib.text.Text at 0x5276c50>,\n",
       "  <matplotlib.text.Text at 0x525e650>,\n",
       "  <matplotlib.text.Text at 0x525efd0>,\n",
       "  <matplotlib.text.Text at 0x526b990>,\n",
       "  <matplotlib.text.Text at 0x5274350>])"
      ]
     },
     "execution_count": 42,
     "metadata": {},
     "output_type": "execute_result"
    },
    {
     "data": {
      "image/png": "[encoded data removed]",
      "text/plain": [
       "<matplotlib.figure.Figure at 0x3a921d0>"
      ]
     },
     "metadata": {},
     "output_type": "display_data"
    }
   ],
   "source": [
    "import matplotlib\n",
    "import matplotlib.pyplot as plt\n",
    "%matplotlib inline  \n",
    "\n",
    "clientip = []\n",
    "hits = []\n",
    "for i in data.take(5):\n",
    "    hits.append(i.hits)\n",
    "    clientip.append(i.clientip)\n",
    "\n",
    "plt.pie(hits, labels=clientip)"
   ]
  },
  {
   "cell_type": "markdown",
   "metadata": {},
   "source": [
    "## Plotting a bar graph from the data\n",
    "The following code uses the 'matplotlib' to draw a pie chart from 'data'"
   ]
  },
  {
   "cell_type": "code",
   "execution_count": 43,
   "metadata": {
    "collapsed": false
   },
   "outputs": [
    {
     "data": {
      "text/plain": [
       "[<matplotlib.text.Text at 0x52953d0>,\n",
       " <matplotlib.text.Text at 0x529d610>,\n",
       " <matplotlib.text.Text at 0x52ca310>,\n",
       " <matplotlib.text.Text at 0x52caa50>,\n",
       " <matplotlib.text.Text at 0x52cd1d0>]"
      ]
     },
     "execution_count": 43,
     "metadata": {},
     "output_type": "execute_result"
    },
    {
     "data": {
      "image/png": "[encoded data removed]",
      "text/plain": [
       "<matplotlib.figure.Figure at 0x4b90ed0>"
      ]
     },
     "metadata": {},
     "output_type": "display_data"
    }
   ],
   "source": [
    "import matplotlib\n",
    "import matplotlib.pyplot as plt\n",
    "import numpy as np\n",
    "\n",
    "%matplotlib inline  \n",
    "\n",
    "clientip = []\n",
    "hits = []\n",
    "for i in data.take(5):\n",
    "    hits.append(i.hits)\n",
    "    clientip.append(i.clientip)\n",
    "    \n",
    "N = 5\n",
    "ind = np.arange(N)  # the x locations for the groups\n",
    "width = 0.5     # the width of the bars\n",
    "fig = plt.figure()\n",
    "ax = fig.add_subplot(111)\n",
    "rects1 = ax.bar(ind, hits, width, color='b')\n",
    "\n",
    "# add some\n",
    "ax.set_ylabel('hits')\n",
    "ax.set_title('Top 5 denied clients')\n",
    "ax.set_xticks(ind+width)\n",
    "ax.set_xticklabels(clientip)\n"
   ]
  },
  {
   "cell_type": "code",
   "execution_count": null,
   "metadata": {
    "collapsed": false
   },
   "outputs": [],
   "source": [
    "!ls"
   ]
  },
  {
   "cell_type": "code",
   "execution_count": null,
   "metadata": {
    "collapsed": true
   },
   "outputs": [],
   "source": []
  }
 ],
 "metadata": {
  "kernelspec": {
   "display_name": "Python 2",
   "language": "python",
   "name": "python2"
  },
  "language_info": {
   "codemirror_mode": {
    "name": "ipython",
    "version": 2
   },
   "file_extension": ".py",
   "mimetype": "text/x-python",
   "name": "python",
   "nbconvert_exporter": "python",
   "pygments_lexer": "ipython2",
   "version": "2.7.6"
  }
 },
 "nbformat": 4,
 "nbformat_minor": 0
}
