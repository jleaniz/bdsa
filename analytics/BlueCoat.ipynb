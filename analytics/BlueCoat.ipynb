{
 "cells": [
  {
   "cell_type": "code",
   "execution_count": null,
   "metadata": {},
   "outputs": [],
   "source": [
    "# Blue Coat log analysis notebook\n",
    "================================================="
   ]
  },
  {
   "cell_type": "markdown",
   "metadata": {},
   "source": [
    "## Loading the logs as tables from parquet files in HDFS\n",
    "\n",
    "The following code loads the access logs from the BlueCoat/accesslog directory in the user's HDFS directory and makes them available as a table.\n",
    "\n",
    "'data' is a dataframe that contains rows selected by the SQL query."
   ]
  },
  {
   "cell_type": "code",
   "execution_count": null,
   "metadata": {},
   "outputs": [],
   "source": [
    "from pyspark import SparkContext\n",
    "from pyspark.sql import SQLContext\n",
    "from pyspark.sql.types import *\n",
    "\n",
    "if __name__ == '__main__':\n",
    "    sqlContext = SQLContext(sc)\n",
    "\n",
    "    df = sqlContext.load('BlueCoat/accessLog')\n",
    "    sqlContext.registerDataFrameAsTable(df, \"accesslog\")\n",
    "    df2 = sqlContext.load('reputation/alienvault')\n",
    "    sqlContext.registerDataFrameAsTable(df2, 'av')\n",
    "    data = sqlContext.sql(\"SELECT clientip, username, host, categories, count(*) as hits FROM accesslog JOIN av WHERE host=ip GROUP BY clientip, username, host, categories ORDER BY hits DESC\") \n",
    "    data.cache()\n",
    "    data.show()"
   ]
  },
  {
   "cell_type": "markdown",
   "metadata": {},
   "source": [
    "## Plotting a pie chart from the data\n",
    "The following code uses the 'matplotlib' to draw a pie chart from 'data'"
   ]
  },
  {
   "cell_type": "code",
   "execution_count": null,
   "metadata": {},
   "outputs": [],
   "source": [
    "import matplotlib\n",
    "import matplotlib.pyplot as plt\n",
    "%matplotlib inline  \n",
    "\n",
    "clientip = []\n",
    "hits = []\n",
    "for i in data.take(5):\n",
    "    hits.append(i.hits)\n",
    "    clientip.append(i.clientip)\n",
    "\n",
    "plt.pie(hits, labels=clientip)"
   ]
  },
  {
   "cell_type": "markdown",
   "metadata": {},
   "source": [
    "## Plotting a bar graph from the data\n",
    "The following code uses the 'matplotlib' to draw a pie chart from 'data'"
   ]
  },
  {
   "cell_type": "code",
   "execution_count": null,
   "metadata": {},
   "outputs": [],
   "source": [
    "import matplotlib\n",
    "import matplotlib.pyplot as plt\n",
    "import numpy as np\n",
    "\n",
    "%matplotlib inline  \n",
    "\n",
    "clientip = []\n",
    "hits = []\n",
    "for i in data.take(5):\n",
    "    hits.append(i.hits)\n",
    "    clientip.append(i.clientip)\n",
    "    \n",
    "N = 5\n",
    "ind = np.arange(N)  # the x locations for the groups\n",
    "width = 0.5     # the width of the bars\n",
    "fig = plt.figure()\n",
    "ax = fig.add_subplot(111)\n",
    "rects1 = ax.bar(ind, hits, width, color='b')\n",
    "\n",
    "# add some\n",
    "ax.set_ylabel('hits')\n",
    "ax.set_title('Top 5 denied clients')\n",
    "ax.set_xticks(ind+width)\n",
    "ax.set_xticklabels(clientip)"
   ]
  },
  {
   "cell_type": "code",
   "execution_count": null,
   "metadata": {},
   "outputs": [],
   "source": [
    "!ls"
   ]
  },
  {
   "cell_type": "code",
   "execution_count": null,
   "metadata": {},
   "outputs": [],
   "source": [
    ""
   ]
  }
 ],
 "metadata": {
  "kernelspec": {
   "display_name": "Python 2",
   "language": "python",
   "name": "python2"
  },
  "language_info": {
   "codemirror_mode": {
    "name": "ipython",
    "version": 2.0
   },
   "file_extension": ".py",
   "mimetype": "text/x-python",
   "name": "python",
   "nbconvert_exporter": "python",
   "pygments_lexer": "ipython2",
   "version": "2.7.6"
  }
 },
 "nbformat": 4,
 "nbformat_minor": 0
}