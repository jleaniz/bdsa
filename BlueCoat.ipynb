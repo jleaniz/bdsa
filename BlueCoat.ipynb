{
 "cells": [
  {
   "cell_type": "markdown",
   "metadata": {
    "slideshow": {
     "slide_type": "notes"
    }
   },
   "source": [
    "# Blue Coat log analysis notebook\n",
    "================================================="
   ]
  },
  {
   "cell_type": "markdown",
   "metadata": {},
   "source": [
    "## Loading the logs from parquet files in HDFS\n",
    "\n",
    "The following code loads the access logs from the BlueCoat/accesslog directory in the user's HDFS directory and makes them available as a table.\n",
    "\n",
    "'data' is a dataframe that contains rows selected by the SQL query."
   ]
  },
  {
   "cell_type": "code",
   "execution_count": 57,
   "metadata": {
    "collapsed": false,
    "scrolled": true,
    "slideshow": {
     "slide_type": "slide"
    }
   },
   "outputs": [
    {
     "name": "stdout",
     "output_type": "stream",
     "text": [
      "clientip    hits\n",
      "127.0.0.1   3   \n",
      "10.8.9.19   9   \n",
      "10.8.9.116  5   \n",
      "10.8.8.89   4   \n",
      "10.8.8.81   8   \n",
      "10.8.8.80   9   \n",
      "10.8.8.40   2   \n",
      "10.8.8.162  1   \n",
      "10.8.8.137  6   \n",
      "10.8.8.123  69  \n",
      "10.8.0.13   5   \n",
      "10.51.40.85 38  \n",
      "10.51.40.75 31  \n",
      "10.51.40.72 7   \n",
      "10.51.40.71 11  \n",
      "10.51.40.70 765 \n",
      "10.51.40.68 11  \n",
      "10.51.40.67 1   \n",
      "10.51.40.63 23  \n",
      "10.51.40.62 76  \n"
     ]
    }
   ],
   "source": [
    "from pyspark import SparkContext\n",
    "from pyspark.sql import SQLContext\n",
    "from pyspark.sql.types import *\n",
    "\n",
    "if __name__ == '__main__':\n",
    "    sqlContext = SQLContext(sc)\n",
    "\n",
    "    df = sqlContext.load('BlueCoat/accessLog')\n",
    "    sqlContext.registerDataFrameAsTable(df, \"accesslog\")\n",
    "    #data = sqlContext.sql(\"SELECT host, count(*) as hits FROM accesslog WHERE action LIKE '%DENIED%' GROUP BY host ORDER BY hits DESC\") \n",
    "    #data = sqlContext.sql(\"SELECT * from accesslog where host like 'installerdownloadmy.com'\")\n",
    "    data = sqlContext.sql(\"SELECT clientip, count(*) as hits from accesslog where action LIKE '%DENIED%' GROUP BY clientip ORDER BY clientip DESC\")\n",
    "    data.show()"
   ]
  },
  {
   "cell_type": "markdown",
   "metadata": {},
   "source": [
    "## Plotting a pie chart from the data\n",
    "The following code uses the 'matplotlib' to draw a pie chart from 'data'"
   ]
  },
  {
   "cell_type": "code",
   "execution_count": null,
   "metadata": {
    "collapsed": false,
    "scrolled": true
   },
   "outputs": [],
   "source": [
    "%matplotlib inline\n",
    "\n",
    "hosts = []\n",
    "hits = []\n",
    "for i in data.take(5):\n",
    "    totals.append(i.hits)\n",
    "    hosts.append(i.host)\n",
    "\n",
    "plt.pie(hits, labels=hosts)"
   ]
  },
  {
   "cell_type": "markdown",
   "metadata": {},
   "source": [
    "## Plotting a bar graph from the data\n",
    "The following code uses the 'matplotlib' to draw a pie chart from 'data'"
   ]
  },
  {
   "cell_type": "code",
   "execution_count": 39,
   "metadata": {
    "collapsed": false
   },
   "outputs": [
    {
     "data": {
      "text/plain": [
       "[<matplotlib.text.Text at 0x399bc50>,\n",
       " <matplotlib.text.Text at 0x31cb810>,\n",
       " <matplotlib.text.Text at 0x2179890>,\n",
       " <matplotlib.text.Text at 0x2e46f50>]"
      ]
     },
     "execution_count": 39,
     "metadata": {},
     "output_type": "execute_result"
    },
    {
     "data": {
      "image/png": "[encoded data removed]",
      "text/plain": [
       "<matplotlib.figure.Figure at 0x3188850>"
      ]
     },
     "metadata": {},
     "output_type": "display_data"
    }
   ],
   "source": [
    "%matplotlib inline\n",
    "\n",
    "hosts = []\n",
    "hits = []\n",
    "for i in data.take(4):\n",
    "    hits.append(i.hits)\n",
    "    hosts.append(i.host)\n",
    "    \n",
    "N = 4\n",
    "ind = np.arange(N)  # the x locations for the groups\n",
    "width = 0.35       # the width of the bars\n",
    "fig = plt.figure()\n",
    "ax = fig.add_subplot(111)\n",
    "rects1 = ax.bar(ind, hits, width, color='r')\n",
    "\n",
    "# add some\n",
    "ax.set_ylabel('hits')\n",
    "ax.set_title('Top 4 denied destinations')\n",
    "ax.set_xticks(ind+width)\n",
    "ax.set_xticklabels(hosts)\n"
   ]
  },
  {
   "cell_type": "code",
   "execution_count": 51,
   "metadata": {
    "collapsed": false
   },
   "outputs": [
    {
     "name": "stdout",
     "output_type": "stream",
     "text": [
      "bc_analytics.py  buc.log   msr.log\t    parser.pyc\t   test.py\r\n",
      "bc_ingest.py\t hdfs.py   parser_part.pyc  pslist.py\t   utils.py\r\n",
      "BlueCoat.ipynb\t hdfs.pyc  parser.py\t    SImageInfo.py  utils.pyc\r\n"
     ]
    }
   ],
   "source": [
    "!ls"
   ]
  },
  {
   "cell_type": "code",
   "execution_count": null,
   "metadata": {
    "collapsed": true
   },
   "outputs": [],
   "source": []
  }
 ],
 "metadata": {
  "kernelspec": {
   "display_name": "Python 2",
   "language": "python",
   "name": "python2"
  },
  "language_info": {
   "codemirror_mode": {
    "name": "ipython",
    "version": 2
   },
   "file_extension": ".py",
   "mimetype": "text/x-python",
   "name": "python",
   "nbconvert_exporter": "python",
   "pygments_lexer": "ipython2",
   "version": "2.7.6"
  }
 },
 "nbformat": 4,
 "nbformat_minor": 0
}
