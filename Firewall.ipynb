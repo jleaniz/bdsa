{
 "cells": [
  {
   "cell_type": "markdown",
   "metadata": {
    "slideshow": {
     "slide_type": "notes"
    }
   },
   "source": [
    "# Blue Coat log analysis notebook\n",
    "================================================="
   ]
  },
  {
   "cell_type": "markdown",
   "metadata": {},
   "source": [
    "## Loading the logs from parquet files in HDFS\n",
    "\n",
    "The following code loads the access logs from the BlueCoat/accesslog directory in the user's HDFS directory and makes them available as a table.\n",
    "\n",
    "'data' is a dataframe that contains rows selected by the SQL query."
   ]
  },
  {
   "cell_type": "code",
   "execution_count": 36,
   "metadata": {
    "collapsed": false,
    "scrolled": true,
    "slideshow": {
     "slide_type": "slide"
    }
   },
   "outputs": [
    {
     "name": "stdout",
     "output_type": "stream",
     "text": [
      "action date       dstip        dstport len proto source       srcip          srcport time           ttl\n",
      "ACCEPT 2015-06-16 216.98.57.48 443     52  TCP   msr-off-fw03 73.137.160.105 58424   00:00:00+00:00 113\n",
      "ACCEPT 2015-06-16 216.98.57.48 443     60  TCP   msr-off-fw03 70.196.133.122 35087   00:00:00+00:00 48 \n",
      "ACCEPT 2015-06-16 216.98.57.48 443     64  TCP   msr-off-fw03 166.170.50.82  5367    00:00:00+00:00 51 \n",
      "ACCEPT 2015-06-16 216.98.57.61 636     60  TCP   msr-off-fw03 54.243.163.67  36818   00:00:00+00:00 44 \n",
      "ACCEPT 2015-06-16 216.98.57.48 443     52  TCP   msr-off-fw03 65.94.67.221   49962   00:00:00+00:00 115\n",
      "DENY   2015-06-16 24.105.29.40 443     52  TCP   msr-off-fw03 10.3.20.28     52928   00:00:00+00:00 125\n",
      "ACCEPT 2015-06-16 216.98.57.48 443     52  TCP   msr-off-fw03 37.55.105.237  52298   00:00:00+00:00 116\n",
      "ACCEPT 2015-06-16 216.98.57.48 443     64  TCP   msr-off-fw03 74.141.115.23  56777   00:00:00+00:00 50 \n",
      "ACCEPT 2015-06-16 216.98.57.53 443     52  TCP   msr-off-fw03 194.2.155.9    61883   00:00:00+00:00 119\n",
      "ACCEPT 2015-06-16 216.98.57.48 443     52  TCP   msr-off-fw03 94.60.208.203  50323   00:00:00+00:00 118\n",
      "ACCEPT 2015-06-16 216.98.57.48 443     52  TCP   msr-off-fw03 174.112.44.170 60249   00:00:00+00:00 118\n",
      "ACCEPT 2015-06-16 216.98.57.48 443     52  TCP   msr-off-fw03 77.88.179.237  25849   00:00:00+00:00 120\n",
      "ACCEPT 2015-06-16 216.98.57.48 443     52  TCP   msr-off-fw03 65.94.67.221   49965   00:00:00+00:00 115\n",
      "ACCEPT 2015-06-16 216.98.57.48 443     52  TCP   msr-off-fw03 97.80.109.119  49774   00:00:00+00:00 115\n",
      "ACCEPT 2015-06-16 216.98.57.48 443     64  TCP   msr-off-fw03 50.30.217.70   51449   00:00:00+00:00 45 \n",
      "ACCEPT 2015-06-16 216.98.57.48 443     52  TCP   msr-off-fw03 82.14.179.241  54400   00:00:00+00:00 116\n",
      "ACCEPT 2015-06-16 216.98.57.48 443     52  TCP   msr-off-fw03 75.71.11.63    53022   00:00:00+00:00 115\n",
      "ACCEPT 2015-06-16 216.98.57.48 443     52  TCP   msr-off-fw03 70.29.98.14    61566   00:00:00+00:00 116\n",
      "ACCEPT 2015-06-16 216.98.57.48 443     52  TCP   msr-off-fw03 70.29.98.14    61567   00:00:00+00:00 116\n",
      "ACCEPT 2015-06-16 216.98.57.48 443     52  TCP   msr-off-fw03 77.88.179.237  25850   00:00:00+00:00 120\n"
     ]
    }
   ],
   "source": [
    "from pyspark import SparkContext\n",
    "from pyspark.sql import SQLContext\n",
    "from pyspark.sql.types import *\n",
    "\n",
    "if __name__ == '__main__':\n",
    "    sqlContext = SQLContext(sc)\n",
    "\n",
    "    df = sqlContext.load('fw/log')\n",
    "    sqlContext.registerDataFrameAsTable(df, \"fwlog\")\n",
    "    data = sqlContext.sql(\"SELECT * FROM fwlog WHERE proto = 'TCP'\")\n",
    "    data.show()"
   ]
  },
  {
   "cell_type": "markdown",
   "metadata": {},
   "source": [
    "## Plotting a pie chart from the data\n",
    "The following code uses the 'matplotlib' to draw a pie chart from 'data'"
   ]
  },
  {
   "cell_type": "code",
   "execution_count": null,
   "metadata": {
    "collapsed": false,
    "scrolled": true
   },
   "outputs": [],
   "source": [
    "%matplotlib inline\n",
    "\n",
    "hosts = []\n",
    "hits = []\n",
    "for i in data.take(5):\n",
    "    totals.append(i.hits)\n",
    "    hosts.append(i.host)\n",
    "\n",
    "plt.pie(hits, labels=hosts)"
   ]
  },
  {
   "cell_type": "markdown",
   "metadata": {},
   "source": [
    "## Plotting a bar graph from the data\n",
    "The following code uses the 'matplotlib' to draw a pie chart from 'data'"
   ]
  },
  {
   "cell_type": "code",
   "execution_count": null,
   "metadata": {
    "collapsed": false
   },
   "outputs": [],
   "source": [
    "%matplotlib inline\n",
    "\n",
    "hosts = []\n",
    "hits = []\n",
    "for i in data.take(4):\n",
    "    hits.append(i.hits)\n",
    "    hosts.append(i.host)\n",
    "    \n",
    "N = 4\n",
    "ind = np.arange(N)  # the x locations for the groups\n",
    "width = 0.35       # the width of the bars\n",
    "fig = plt.figure()\n",
    "ax = fig.add_subplot(111)\n",
    "rects1 = ax.bar(ind, hits, width, color='r')\n",
    "\n",
    "# add some\n",
    "ax.set_ylabel('hits')\n",
    "ax.set_title('Top 4 denied destinations')\n",
    "ax.set_xticks(ind+width)\n",
    "ax.set_xticklabels(hosts)\n"
   ]
  },
  {
   "cell_type": "code",
   "execution_count": null,
   "metadata": {
    "collapsed": false
   },
   "outputs": [],
   "source": [
    "!ls"
   ]
  },
  {
   "cell_type": "code",
   "execution_count": null,
   "metadata": {
    "collapsed": true
   },
   "outputs": [],
   "source": []
  }
 ],
 "metadata": {
  "kernelspec": {
   "display_name": "Python 2",
   "language": "python",
   "name": "python2"
  },
  "language_info": {
   "codemirror_mode": {
    "name": "ipython",
    "version": 2
   },
   "file_extension": ".py",
   "mimetype": "text/x-python",
   "name": "python",
   "nbconvert_exporter": "python",
   "pygments_lexer": "ipython2",
   "version": "2.7.6"
  }
 },
 "nbformat": 4,
 "nbformat_minor": 0
}
